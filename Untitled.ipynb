{
 "cells": [
  {
   "cell_type": "code",
   "execution_count": 40,
   "metadata": {},
   "outputs": [
    {
     "name": "stderr",
     "output_type": "stream",
     "text": [
      "[nltk_data] Downloading package stopwords to\n",
      "[nltk_data]     C:\\Users\\Kevin\\AppData\\Roaming\\nltk_data...\n",
      "[nltk_data]   Package stopwords is already up-to-date!\n"
     ]
    }
   ],
   "source": [
    "import pickle\n",
    "from model import IngredientIndex\n",
    "import nltk\n",
    "nltk.download('stopwords')\n",
    "from nltk.corpus import stopwords\n",
    "from nltk.stem import WordNetLemmatizer\n",
    "lemmatizer = WordNetLemmatizer()"
   ]
  },
  {
   "cell_type": "code",
   "execution_count": 2,
   "metadata": {},
   "outputs": [],
   "source": [
    "with open('recipes.pkl', 'rb') as f:\n",
    "    recipes = pickle.load(f)\n",
    "with open('inv_idx.pkl', 'rb') as f:\n",
    "    inv_idx = pickle.load(f)\n",
    "Master = IngredientIndex(recipes, inv_idx)"
   ]
  },
  {
   "cell_type": "code",
   "execution_count": 3,
   "metadata": {},
   "outputs": [
    {
     "data": {
      "text/plain": [
       "set()"
      ]
     },
     "execution_count": 3,
     "metadata": {},
     "output_type": "execute_result"
    }
   ],
   "source": [
    "Master['beqwefqwfeef']"
   ]
  },
  {
   "cell_type": "code",
   "execution_count": 4,
   "metadata": {},
   "outputs": [
    {
     "name": "stderr",
     "output_type": "stream",
     "text": [
      "unable to import 'smart_open.gcs', disabling that module\n"
     ]
    },
    {
     "name": "stdout",
     "output_type": "stream",
     "text": [
      "[==================================================] 100.0% 104.8/104.8MB downloaded\n"
     ]
    }
   ],
   "source": [
    "import gensim.downloader as api\n",
    "wv = api.load('glove-twitter-25')"
   ]
  },
  {
   "cell_type": "code",
   "execution_count": 34,
   "metadata": {},
   "outputs": [
    {
     "name": "stdout",
     "output_type": "stream",
     "text": [
      "{\"it's\", 'during', 'be', 'some', 'now', 'here', 'of', 'at', 'where', 'and', 'other', 'then', \"aren't\", 'nor', 'herself', 'this', 'a', \"mightn't\", 'over', 'or', 'yourself', 'same', 'i', 'ma', 'had', 'the', 'down', 'will', 'who', 'it', 'been', 'me', 'while', 'as', 've', 'to', 'shan', 'but', 'my', 'from', 'no', 'above', 'once', \"haven't\", 'out', \"that'll\", 'your', 'we', 'ours', 'if', 'y', \"wouldn't\", \"shan't\", 'their', 'an', 'themselves', 'doing', 'through', 'o', 'our', 'was', 'after', 'than', 'yours', 'did', 'not', 'by', 'up', \"mustn't\", \"you're\", 'against', 'all', 'needn', 'being', 'wasn', \"you'd\", 'you', 'those', 'don', 'both', 'so', \"hadn't\", 'because', 'these', \"wasn't\", \"doesn't\", 'ourselves', 'am', 'off', 'each', 'more', 'in', 'have', 'm', 'what', \"hasn't\", \"isn't\", 'hadn', 'itself', 'were', 'him', \"should've\", \"weren't\", \"won't\", 'has', 'do', 're', 'whom', 'they', 'just', 'couldn', 'theirs', 'are', 'mustn', 'that', 'mightn', 'which', 'for', 'how', 'under', 'won', 'aren', 'haven', 'does', 'himself', \"don't\", 'its', 'myself', 'between', 'on', 'isn', 'hasn', 'didn', \"you'll\", \"couldn't\", \"didn't\", \"needn't\", 'into', 'when', 'too', 'very', \"you've\", 'them', 'is', 'before', 'again', 'most', 'with', 'ain', \"shouldn't\", 'why', 's', 'shouldn', 'wouldn', 'only', 'his', 'own', 'until', 'weren', 'should', 'such', 'few', 'can', 't', 'any', 'd', 'll', \"she's\", 'yourselves', 'having', 'below', 'doesn', 'hers', 'her', 'there', 'she', 'he', 'about', 'further'}\n"
     ]
    }
   ],
   "source": [
    "stop_words = set(stopwords.words('english'))\n",
    "print(stop_words)"
   ]
  },
  {
   "cell_type": "code",
   "execution_count": 43,
   "metadata": {
    "scrolled": true
   },
   "outputs": [
    {
     "name": "stdout",
     "output_type": "stream",
     "text": [
      "sweet: 0.29\n",
      "salty: 0.37\n",
      "savory: 0.5\n",
      "sour: 0.53\n",
      "spicy: 0.58\n",
      "bitter: 0.2\n",
      "citrus: 0.5\n",
      "fruity: 0.5\n",
      "rich: 0.38\n"
     ]
    }
   ],
   "source": [
    "flavors = ['sweet', 'salty', 'savory', 'sour', 'spicy', 'bitter', 'citrus', 'fruity', 'rich']\n",
    "ingredients = ['beef', 'tenderloin', 'with', 'mushroom']\n",
    "l = len(ingredients)\n",
    "for flavor in flavors:\n",
    "    sim = 0\n",
    "    for ingredient in ingredients:\n",
    "        if ingredient not in stop_words:\n",
    "            sim += wv.similarity(ingredient, flavor)\n",
    "    print(lemmatizer.lemmatize(flavor) + ': ' + str(round(sim/l, 2)))"
   ]
  },
  {
   "cell_type": "code",
   "execution_count": null,
   "metadata": {},
   "outputs": [],
   "source": []
  }
 ],
 "metadata": {
  "kernelspec": {
   "display_name": "Python 3",
   "language": "python",
   "name": "python3"
  },
  "language_info": {
   "codemirror_mode": {
    "name": "ipython",
    "version": 3
   },
   "file_extension": ".py",
   "mimetype": "text/x-python",
   "name": "python",
   "nbconvert_exporter": "python",
   "pygments_lexer": "ipython3",
   "version": "3.7.6"
  }
 },
 "nbformat": 4,
 "nbformat_minor": 4
}
