{
 "cells": [
  {
   "cell_type": "code",
   "execution_count": 1,
   "metadata": {},
   "outputs": [],
   "source": [
    "import pickle\n",
    "from model import IngredientIndex"
   ]
  },
  {
   "cell_type": "code",
   "execution_count": 2,
   "metadata": {},
   "outputs": [],
   "source": [
    "with open('model.pkl', 'rb') as f:\n",
    "    Master = pickle.load(f)"
   ]
  },
  {
   "cell_type": "code",
   "execution_count": 3,
   "metadata": {},
   "outputs": [
    {
     "name": "stdout",
     "output_type": "stream",
     "text": [
      "{'apple and sausage stuffing', 'elegant turkey stuffing', 'fresh pumpkin soup by kerry simon', 'crock pot pork  apple and cranberry stew', 'sweet pork with apples and prunes  slow cooker', 'autumn harvest stew', 'thanksgiving panzanella', 'drunken chicken marinade', 'salt sweet sage roast chicken with roast apple side', 'ultimate bread turkey stuffing', 'sage sausage  apple and craisin dressing', 'cornbread stuffing with sausage and apples', 'stuffed pork shoulder', 'sage sausage  apple   walnut stuffing dressing', 'veal chuck chops with onions  cabbage   apples', 'homemade chicken and apple sausage', 'a healthy apple and celery soup', 'apple cider chicken', 'braised celery with apple', 'butternut harvest stew', 'butternut and apple soup', 'cranberry  sausage  and apple stuffing', 'chicken with apples and sage', 'cornbread  sausage  apple    pecan stuffing', 'chicken with cream  apples and calvados', 'chicken fruit low calorie fat free diet poultry', 'jack s apple butter chicken', 'apple pie sausage stuffing', 'brining a young turkey', 'bacon wrapped pork loin with apples and sage', 'crock pot sausage dressing', 'creamy sweet potato soup with baby peas', 'rye bread stuffing', 'smoked sausage skillet cassoulet', 'dried cranberry and apple turkey stuffing', 'simply elegant artichoke quiche', 'normandy pork tenderloin', 'chicken and sweet potatoes', 'sausage  dried cranberry and apple stuffing', 'turkey normandy', 'roasted pork loin with sage and dried berry stuffing', 'apple and cranberry stuffing', 'perfect turkey  brined', 'pan sauteed butternut squash  pears and sage', 'baked chicken on pecan stuffing', 'apple  sage  and berries stuffing', 'crown roast of pork with savory fruit stuffing', 'quick pan fried chicken livers with apple  onion and sage', 'roast turkey   alton brown giada de laurentiis', 'wild and brown rice dressing with apples  pecans and cranberries', 'oktoberfest pork roast', 'brined and roasted thanksgiving turkey with simple gravy', 'sari fowl   special long cook chicken', 'cindy wallace s glazed apple meatloaf', 'cider basted turkey with roasted apple gravy', 'butternut squash soup with cider cream', 'irish roast pork with cider cream sauce', 'chicken thighs with roasted apples and garlic', 'apple and chicken hash', 'the best turkey dressing  stuffing', 'maple roast turkey', 'pork chop barley casserole', 'pork chops with onions  sage and applesauce', 'apple sausage stuffing', 'apple cider brined turkey with savory herb gravy', 'apple sausage stuffing for turkey', 'kittencal s sausage and cranberry stuffing', 'sausage and apple stuffing casserole', 'apple glazed roast chicken and rice', 'stuffing royale', 'apple and sage stuffing', 'sage rubbed pork chops with warm apple slaw', 'sausage stuffing bake', 'pork chops stuffed with apples and sage', 'rainbow trout   savory cornbread stuffing', 'chicken apple bacon burgers', 'pork chops with calvados', 'marc s chops', 'mom s thanksgiving stuffing', 'baked pork and apple meatballs  gary rhodes', 'apple chestnut stuffing', 'butternut squash soup with apple and bacon', 'the best turkey ever', 'the best stuffing ever', 'simple stuffing', 'smoked sausage cassoulet', 'pork chops with savory apple stuffing', 'roasted turkey breast with apples', 'ultimate bbq chicken', 'kelly s holiday apple and sausage stuffing', 'creamy pork and apple stew', 'pork medallions with cranberries and apples', 'butternut squash  rice and sausage casserole', 'autumn pumpkin soup', 'apple   herb stuffing', 'apple sage stuffed pork chops', 'creamy pumpkin soup   for weight watching people', 'bulgur stuffing with celery  apples and sage', 'paula deen apple stuffed pork loin y all', 'apple festival brunswick stew', 'butternut squash soup with sage', 'northwest harvest gold soup', 'bacon   bourbon stuffing  serves 8 10 as a side dish'}\n"
     ]
    }
   ],
   "source": [
    "print(Master.search(['apple', 'sage', 'chicken'], []))"
   ]
  },
  {
   "cell_type": "code",
   "execution_count": null,
   "metadata": {},
   "outputs": [],
   "source": []
  }
 ],
 "metadata": {
  "kernelspec": {
   "display_name": "Python 3",
   "language": "python",
   "name": "python3"
  },
  "language_info": {
   "codemirror_mode": {
    "name": "ipython",
    "version": 3
   },
   "file_extension": ".py",
   "mimetype": "text/x-python",
   "name": "python",
   "nbconvert_exporter": "python",
   "pygments_lexer": "ipython3",
   "version": "3.7.6"
  }
 },
 "nbformat": 4,
 "nbformat_minor": 4
}
