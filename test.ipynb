{
 "cells": [
  {
   "cell_type": "code",
   "execution_count": 1,
   "metadata": {},
   "outputs": [
    {
     "name": "stderr",
     "output_type": "stream",
     "text": [
      "unable to import 'smart_open.gcs', disabling that module\n"
     ]
    }
   ],
   "source": [
    "import pickle\n",
    "from model import IngredientIndex"
   ]
  },
  {
   "cell_type": "code",
   "execution_count": 2,
   "metadata": {},
   "outputs": [],
   "source": [
    "with open('recipes.pkl', 'rb') as f:\n",
    "    recipes = pickle.load(f)\n",
    "with open('inv_idx.pkl', 'rb') as f:\n",
    "    inv_idx = pickle.load(f)\n",
    "Master = IngredientIndex(recipes, inv_idx)"
   ]
  },
  {
   "cell_type": "code",
   "execution_count": 3,
   "metadata": {},
   "outputs": [
    {
     "name": "stdout",
     "output_type": "stream",
     "text": [
      "{'sweet': 0.38, 'salty': 0.38, 'savory': 0.49, 'sour': 0.55, 'spicy': 0.59, 'bitter': 0.28, 'citrus': 0.44, 'fruity': 0.5, 'rich': 0.43}\n",
      "{'sweet': 0.74, 'salty': 0.57, 'savory': 0.49, 'sour': 0.8, 'spicy': 0.76, 'bitter': 0.53, 'citrus': 0.6, 'fruity': 0.67, 'rich': 0.6}\n",
      "{'sweet': 0.72, 'salty': 0.54, 'savory': 0.45, 'sour': 0.74, 'spicy': 0.69, 'bitter': 0.57, 'citrus': 0.53, 'fruity': 0.59, 'rich': 0.68}\n"
     ]
    }
   ],
   "source": [
    "print(Master.recipes[425971]['flavors'])\n",
    "print(Master.recipes[57339]['flavors'])\n",
    "print(Master.recipes[65511]['flavors'])"
   ]
  },
  {
   "cell_type": "code",
   "execution_count": 16,
   "metadata": {},
   "outputs": [
    {
     "name": "stdout",
     "output_type": "stream",
     "text": [
      "['sweet']\n",
      "mexican fun chicken\n",
      "breakfast muffins to go\n",
      "futomaki   big sushi roll\n",
      "wonderful berry dinner salad\n",
      "yummy summer chicken salad\n",
      "different and wonderful chicken salad\n",
      "jessica s special salad\n",
      "mom s mexican salad\n",
      "very good veggie wrap\n",
      "breakfast sandwich\n"
     ]
    }
   ],
   "source": [
    "for thing in Master.search(['avocado'], [], ['sweet'])[:10]:\n",
    "    print(thing[1]['name'])\n",
    "    # print()"
   ]
  },
  {
   "cell_type": "code",
   "execution_count": null,
   "metadata": {},
   "outputs": [],
   "source": []
  }
 ],
 "metadata": {
  "kernelspec": {
   "display_name": "Python 3",
   "language": "python",
   "name": "python3"
  },
  "language_info": {
   "codemirror_mode": {
    "name": "ipython",
    "version": 3
   },
   "file_extension": ".py",
   "mimetype": "text/x-python",
   "name": "python",
   "nbconvert_exporter": "python",
   "pygments_lexer": "ipython3",
   "version": "3.7.6"
  }
 },
 "nbformat": 4,
 "nbformat_minor": 4
}
