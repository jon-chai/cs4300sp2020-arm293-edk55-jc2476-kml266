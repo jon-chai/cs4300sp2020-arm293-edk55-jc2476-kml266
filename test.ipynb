{
 "cells": [
  {
   "cell_type": "code",
   "execution_count": 1,
   "metadata": {},
   "outputs": [],
   "source": [
    "import pickle\n",
    "from model import IngredientIndex"
   ]
  },
  {
   "cell_type": "code",
   "execution_count": 2,
   "metadata": {},
   "outputs": [],
   "source": [
    "with open('model.pkl', 'rb') as f:\n",
    "    Master = pickle.load(f)"
   ]
  },
  {
   "cell_type": "code",
   "execution_count": 4,
   "metadata": {},
   "outputs": [
    {
     "name": "stdout",
     "output_type": "stream",
     "text": [
      "{'sea breezes', 'red robin copycat recipe    sand in your shorts', 'pink fetish', 'red roosters', 'california breeze', 'slush punch', 'emeril s christmas poinsettia cocktail', 'ruby relaxer   ruby tuesday copycat', 'cranberry orange jell o shots', 'guy fieri s code red beverage', 'french cosmopolitan with mandarin orange', 'bellagio resort   casino  sunsplash cocktail', 'citrus cranberry delight', 'mistletoe martini', 'holiday sunrise', 'mandarin blush', 'pilgrim punch', 'giligans island cocktail', 'cosmopolitan martini', 'wiki waki woo', 'xtc', 'blonde sangria', 'holiday tini', 'brigitte bardot   a great cocktail', 'orange surfboard', 'frozen mixed dream', 'hawaiian sunset cocktail', 'gilligan s island', 'thanksgiving s a breeze seabreezes', 'island girl drink', 'cranberry orange vodka', 'amaretto cranberry kiss', 'pants relaxer', 'vodka gilligan s island', 'cosmo slush', 'poinsettia sipper  with  cocktail  variation', 'madras cocktail', 'a night in paris', 'california iced tea', 'sand in your shorts', 'cranberry citrus vodka slush', 'the blizzard  connecticut', 'banilla splash', 'cranberry cosmopolitan', 'desert sunset', 'burning mandarin martini', 'atlas', 'orange cranberry screwdriver', 'grand martini', 'emeril lagasse s red rooster punch', 'bad attitude', 'cosmo fruit punch', 'x rated flirtini', 'spiced cranberry tea', 'pomberrytini', 'barbie shot', 'cranberry coolers', 'asian sensation'}\n"
     ]
    }
   ],
   "source": [
    "print(Master.search(['vodka', 'cranberry', 'orange'], []))"
   ]
  },
  {
   "cell_type": "code",
   "execution_count": 16,
   "metadata": {},
   "outputs": [],
   "source": [
    "import requests\n",
    "from urllib import request, response, error, parse\n",
    "from urllib.request import urlopen\n",
    "from bs4 import BeautifulSoup"
   ]
  },
  {
   "cell_type": "code",
   "execution_count": 18,
   "metadata": {
    "scrolled": true
   },
   "outputs": [],
   "source": [
    "url = 'https://www.food.com/search/386347'\n",
    "html = urlopen(url)\n",
    "\n",
    "soup = BeautifulSoup(html, \"html\") \n",
    "# print(soup)\n",
    "with open('test.html', 'w', encoding='utf-8') as f:\n",
    "    f.write(str(soup))\n",
    "# here, the \"lxml\" is the html parser"
   ]
  },
  {
   "cell_type": "code",
   "execution_count": 27,
   "metadata": {},
   "outputs": [],
   "source": [
    "r = requests.get(\"https://www.food.com/search\", params={'search-input': \"386347\"})\n",
    "# print(r.text)\n",
    "with open('test.html', 'w', encoding='utf-8') as f:\n",
    "    f.write(r.text)"
   ]
  },
  {
   "cell_type": "code",
   "execution_count": null,
   "metadata": {},
   "outputs": [],
   "source": []
  }
 ],
 "metadata": {
  "kernelspec": {
   "display_name": "Python 3",
   "language": "python",
   "name": "python3"
  },
  "language_info": {
   "codemirror_mode": {
    "name": "ipython",
    "version": 3
   },
   "file_extension": ".py",
   "mimetype": "text/x-python",
   "name": "python",
   "nbconvert_exporter": "python",
   "pygments_lexer": "ipython3",
   "version": "3.7.6"
  }
 },
 "nbformat": 4,
 "nbformat_minor": 4
}
