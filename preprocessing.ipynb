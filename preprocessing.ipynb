{
 "cells": [
  {
   "cell_type": "markdown",
   "metadata": {
    "deletable": false,
    "editable": false,
    "nbgrader": {
     "cell_type": "markdown",
     "checksum": "3af7072cd06b4e7b319ca6d0889f94c3",
     "grade": false,
     "grade_id": "cell-f73edfc42eeb86c7",
     "locked": true,
     "schema_version": 3,
     "solution": false
    }
   },
   "source": [
    "# Assignment 0: Getting (to know) the Kardashians\n",
    "## © Cristian Danescu-Niculescu-Mizil 2020\n",
    "## CS/INFO 4300 Language and Information\n",
    "\n",
    "## Due by midnight on Friday January 24th\n",
    "\n",
    "You must completely this assignment **individually**.\n",
    "\n",
    "In this assignment we will be working with transcripts from the reality TV show \"Keeping Up With The Kardashians\" and cleaning the raw transcript data so that we may apply various layers of analysis in later assignments.\n",
    "\n",
    "This assignment **is not intended to be a test of your programming skills**, but to get you familiar with the virtual environment and the structure of the data you will be analyzing. In fact, most of the code is provided and you only need to run through it and address two questions at the end of the notebook.\n",
    "\n",
    "**Learning Objectives**\n",
    "\n",
    "This project aims to help you to get comfortable working with the following tools / technologies / concepts:\n",
    "\n",
    "* The Jupyter Notebook environment\n",
    "* Recap of Python syntax and basic data structures\n",
    "* `virtualenv` environment for package dependencies\n",
    "\n",
    "**Academic Integrity and Collaboration**\n",
    "\n",
    "Note that these projects should be completed individually. As a result, all University-standard academic integrity guidelines must be followed.\n",
    "\n",
    "**Guidelines**\n",
    "\n",
    "All cells that contain the blocks that read `# YOUR CODE HERE` are editable and are to be completed to ensure you pass the test-cases. Make sure to write your code where indicated.\n",
    "\n",
    "All cells that read `YOUR ANSWER HERE` are free-response cells that are editable and are to be completed. \n",
    "\n",
    "You may use any number of notebook cells to explore the data and test out your functions, although you will only be graded on the solution itself.\n",
    "\n",
    "You are unable to modify the read-only cells.\n",
    "\n",
    "You should also use Markdown cells to explain your code and discuss your results when necessary.\n",
    "Instructions can be found [here](http://jupyter-notebook.readthedocs.io/en/latest/examples/Notebook/Working%20With%20Markdown%20Cells.html).\n",
    "\n",
    "All floating point values should be printed with **2 decimal places** precision. You can do so using the built-in `round` function.\n",
    "\n",
    "**Grading**\n",
    "\n",
    "For code-completion questions you will be graded on passing the public test cases we have included, as well as any hidden test cases that we have supplemented to ensure that your logic is correct.\n",
    "\n",
    "For free-response questions you will be manually graded on the quality of your answer.\n",
    "\n",
    "**Submission**\n",
    "\n",
    "You are expected to submit this .ipynb as your submission for Assignment 0. \n",
    "\n",
    "In addition please submit an html copy of the notebook (You can create this by clicking `File` > `Download as` > `HTML (.html)`).\n",
    "\n",
    "**Additional Notes**\n",
    "\n",
    "To setup your environment review the writeup attached to this Assignment. \n",
    "\n",
    "Make sure to fill out the startup quiz on CMS."
   ]
  },
  {
   "cell_type": "code",
   "execution_count": 1,
   "metadata": {
    "deletable": false,
    "editable": false,
    "nbgrader": {
     "cell_type": "code",
     "checksum": "3d6cf6804069db967bc8c42f4d6a2e36",
     "grade": false,
     "grade_id": "cell-5b241ddc5d1abfce",
     "locked": true,
     "schema_version": 3,
     "solution": false
    }
   },
   "outputs": [],
   "source": [
    "import sys\n",
    "import re\n",
    "from glob import glob\n",
    "import os\n",
    "from itertools import groupby\n",
    "import pickle\n",
    "import bs4\n",
    "import matplotlib.pyplot as plt\n",
    "%matplotlib inline"
   ]
  },
  {
   "cell_type": "code",
   "execution_count": 2,
   "metadata": {
    "deletable": false,
    "editable": false,
    "nbgrader": {
     "cell_type": "code",
     "checksum": "cce701de750c86b96c96483b2dec49b0",
     "grade": false,
     "grade_id": "cell-019e0403e9612756",
     "locked": true,
     "schema_version": 3,
     "solution": false
    }
   },
   "outputs": [],
   "source": [
    "# Ensure that your kernel is using Python3\n",
    "assert sys.version_info.major == 3"
   ]
  },
  {
   "cell_type": "markdown",
   "metadata": {
    "deletable": false,
    "editable": false,
    "nbgrader": {
     "cell_type": "markdown",
     "checksum": "51454d799ef50d4121778b10d120f53f",
     "grade": false,
     "grade_id": "cell-7c44dadd036fa003",
     "locked": true,
     "schema_version": 3,
     "solution": false
    }
   },
   "source": [
    "# Processing the transcripts of \"Keeping up with the Kardashians\"\n",
    "\n",
    "Transcripts of this TV show are available online and have been downloaded and provided to you in HTML format. However, they show very weak structure and a lot of noise. There is a lot of work to be done to render them usable for analysis.\n",
    "\n",
    "We will use the *BeautifulSoup* library, which makes working with messy HTML much easier."
   ]
  },
  {
   "cell_type": "code",
   "execution_count": 3,
   "metadata": {
    "deletable": false,
    "editable": false,
    "nbgrader": {
     "cell_type": "code",
     "checksum": "ede675ff1aecc8d6bf799406d0bb53f9",
     "grade": false,
     "grade_id": "cell-2eadd3e217a40e7e",
     "locked": true,
     "schema_version": 3,
     "solution": false
    }
   },
   "outputs": [],
   "source": [
    "transcript_filename = \"kardashians_data/livedash_kardashians/153950.html\"\n",
    "with open(transcript_filename) as f:\n",
    "    bsoup = bs4.BeautifulSoup(f, \"html5lib\")"
   ]
  },
  {
   "cell_type": "markdown",
   "metadata": {
    "deletable": false,
    "editable": false,
    "nbgrader": {
     "cell_type": "markdown",
     "checksum": "35d07d1b5c5e277f4852d2b9fdd2c44b",
     "grade": false,
     "grade_id": "cell-d2c960e2488d04e6",
     "locked": true,
     "schema_version": 3,
     "solution": false
    }
   },
   "source": [
    "The title of the episode transcribed in the current file can be found in the element with the `title` id:"
   ]
  },
  {
   "cell_type": "code",
   "execution_count": 4,
   "metadata": {
    "deletable": false,
    "editable": false,
    "nbgrader": {
     "cell_type": "code",
     "checksum": "599ec7d7bc6ce8ddc7e7ca5cebc760cc",
     "grade": false,
     "grade_id": "cell-5a3a0a3dbb617e56",
     "locked": true,
     "schema_version": 3,
     "solution": false
    }
   },
   "outputs": [
    {
     "data": {
      "text/plain": [
       "'Keeping Up With the Kardashians - Shape Up or Ship Out'"
      ]
     },
     "execution_count": 4,
     "metadata": {},
     "output_type": "execute_result"
    }
   ],
   "source": [
    "bsoup.find(attrs={'id': 'title'}).get_text()"
   ]
  },
  {
   "cell_type": "markdown",
   "metadata": {
    "deletable": false,
    "editable": false,
    "nbgrader": {
     "cell_type": "markdown",
     "checksum": "fc2dda6b0ba600fe3f0450de60511a74",
     "grade": false,
     "grade_id": "cell-012ff55630447bfb",
     "locked": true,
     "schema_version": 3,
     "solution": false
    }
   },
   "source": [
    "Each line of conversation is a table row with two table cells, one containing the timestamp, the other the text:"
   ]
  },
  {
   "cell_type": "code",
   "execution_count": 5,
   "metadata": {
    "deletable": false,
    "editable": false,
    "nbgrader": {
     "cell_type": "code",
     "checksum": "fdedfbb2a36b88c4fc2b04eb123e23b9",
     "grade": false,
     "grade_id": "cell-e981f48f35a51c3b",
     "locked": true,
     "schema_version": 3,
     "solution": false
    }
   },
   "outputs": [
    {
     "data": {
      "text/plain": [
       "[<tr><td><a name=\"943920233\"></a>00:03:53</td><td>Are you kidding?\n",
       " </td></tr>,\n",
       " <tr><td><a name=\"943920234\"></a>00:03:54</td><td>&gt;&gt; KIM: That's crazy.\n",
       " </td></tr>,\n",
       " <tr><td><a name=\"943920235\"></a>00:03:55</td><td>That's way too much money, Mom.\n",
       " </td></tr>,\n",
       " <tr><td><a name=\"943920237\"></a>00:03:57</td><td>You have so many dresses, and\n",
       " it's just a plain black dress.\n",
       " </td></tr>,\n",
       " <tr><td><a name=\"943920239\"></a>00:03:59</td><td>It's nothing special.\n",
       " </td></tr>]"
      ]
     },
     "execution_count": 5,
     "metadata": {},
     "output_type": "execute_result"
    }
   ],
   "source": [
    "bsoup.findAll(\"tr\")[100:105]"
   ]
  },
  {
   "cell_type": "markdown",
   "metadata": {
    "deletable": false,
    "editable": false,
    "nbgrader": {
     "cell_type": "markdown",
     "checksum": "4ab0e41b5b6b7f429beb1a68f8aa977d",
     "grade": false,
     "grade_id": "cell-b790acb883d580f9",
     "locked": true,
     "schema_version": 3,
     "solution": false
    }
   },
   "source": [
    "The formatting used by the transcripts is not completely normalized, but follows some patterns.\n",
    "\n",
    "For instance, there are two types of lines:\n",
    "\n",
    " * When a character starts to speak after someone else, this is marked as such:\n",
    " \n",
    "     `>> KIM: That's crazy.`\n",
    "\n",
    "\n",
    " * When a character has already been speaking and continues, the line is simply:\n",
    " \n",
    "     `That's way too much money, Mom.`\n",
    "     \n",
    "     The text in the second kind of line can be considered to be part of the same speech\n",
    "     act as the previous one.\n",
    "\n",
    "However, there are some irregularities in the transcripts that we exemplify and work around.\n",
    "\n",
    "## Extracting valid dialogue"
   ]
  },
  {
   "cell_type": "code",
   "execution_count": 6,
   "metadata": {
    "deletable": false,
    "editable": false,
    "nbgrader": {
     "cell_type": "code",
     "checksum": "2ccb79757e4f904ae1dcb78ed7f444e3",
     "grade": false,
     "grade_id": "cell-b10a63cfc9d202aa",
     "locked": true,
     "schema_version": 3,
     "solution": false
    }
   },
   "outputs": [],
   "source": [
    "def strip_actions(line):\n",
    "    \"\"\"Some of the texts contain indications about the actions\n",
    "    that the characters do. For example:\n",
    "        \n",
    "        (Kourtney and Khloe laughing) >> BRUCE: Sometimes,\n",
    "        I can get so disappointed with these girls.\n",
    "    \n",
    "    This function should remove everything between parantheses\n",
    "    in the line passed as argument.  You may assume no nesting.\n",
    "    \n",
    "    >>> strip_actions(\"a(bc)d(efg)\")\n",
    "    \"ad\"\n",
    "\n",
    "    \"\"\"\n",
    "    return \"\".join(re.split(\"\\([^\\(\\)]*\\)\", line, flags=re.DOTALL))\n",
    "\n",
    "def break_up_line(line):\n",
    "    \"\"\"When characters take turn in quick succession, we may have two\n",
    "    characters speaking in the same line. Example:\n",
    "\n",
    "        >> SCOTT: Three? >> KOURTNEY: Yeah.\n",
    "    \n",
    "    We should split this line into two appropriate lines.\n",
    "    \n",
    "    >>> break_up_line(\">> SCOTT: Three? >> KOURTNEY: Yeah.\")\n",
    "    ['>> SCOTT: Three?', '>> KOURTNEY: Yeah.']\n",
    "    \n",
    "    For consistency, we should always return a list:\n",
    "    >>> break_up_line(\">> SCOTT: Three?\")\n",
    "    ['>> SCOTT: Three?']\n",
    "    \n",
    "    When there are no indications of who is speaking, simply return\n",
    "    a list containing a single string that contains the text.\n",
    "    \n",
    "    >>> break_up_line(\"I am.\")\n",
    "    ['I am.']\n",
    "    \n",
    "    \"\"\"\n",
    "    lines = line.split(\">>\")\n",
    "    if lines[0].strip() == \"\":\n",
    "        return list(map(lambda s: \">>\" + s.rstrip(), lines[1:]))\n",
    "    else:\n",
    "        return [lines[0].strip()]\n",
    "\n",
    "\n",
    "def is_valid_speaker(speaker_string):\n",
    "    return speaker_string.strip().isupper()\n",
    "\n",
    "def is_valid_transcript_char(char):\n",
    "    return char.isalpha() or char.isdigit() or char in \".?!$\\\"'\""
   ]
  },
  {
   "cell_type": "markdown",
   "metadata": {
    "deletable": false,
    "editable": false,
    "nbgrader": {
     "cell_type": "markdown",
     "checksum": "3632641711f33f4c950e23ede52f67b0",
     "grade": false,
     "grade_id": "cell-0ad83f3d1b7b8567",
     "locked": true,
     "schema_version": 3,
     "solution": false
    }
   },
   "source": [
    "The bulk of the function that turns a transcript into a usable representation is given below."
   ]
  },
  {
   "cell_type": "code",
   "execution_count": 7,
   "metadata": {
    "deletable": false,
    "editable": false,
    "nbgrader": {
     "cell_type": "code",
     "checksum": "7a8ba09b6be475104a4f5a4a89de5934",
     "grade": false,
     "grade_id": "cell-2f22c56ba4693484",
     "locked": true,
     "schema_version": 3,
     "solution": false
    }
   },
   "outputs": [],
   "source": [
    "def parse_kardashians_transcript(raw_html):\n",
    "    bsoup = bs4.BeautifulSoup(raw_html, \"html5lib\")\n",
    "\n",
    "    # Get the title of the TV show\n",
    "    title = bsoup.find(attrs={'id': 'title'})\n",
    "    title = title.get_text() if title else None\n",
    "\n",
    "    transcript = []\n",
    "    speaker = None\n",
    "    \n",
    "    # We maintain an error state. If we reach an invalid line, the captioning\n",
    "    # turned bad (perhaps an advertisement was being captioned instead of the TV show),\n",
    "    # but sometimes it gets fixed.\n",
    "    captioning_broken = False \n",
    "\n",
    "    for row in bsoup.findAll(\"tr\"):\n",
    "        \n",
    "        #  We are looking for table rows that have exactly two cells, and\n",
    "        # the first cell has a timestamp with a link. Skip other table rows.\n",
    "        cells = row.findAll(\"td\")\n",
    "        if len(cells) != 2:\n",
    "            continue\n",
    "        time_cell, text_cell = cells\n",
    "        if len(time_cell.contents) != 2:\n",
    "            continue\n",
    "        anchor, timestamp = time_cell.contents\n",
    "        if anchor.name != 'a':\n",
    "            continue\n",
    "\n",
    "        text = \" \".join(text_cell.get_text().splitlines())\n",
    "        text = strip_actions(text)\n",
    "\n",
    "        for subline in break_up_line(text):\n",
    "            # At this point, subline is a single speech act, which should contain either\n",
    "            # one speaker name and a text, or just the text (if the speaker stays the same).\n",
    "            # e.g. the variable text might be \">> SCOTT: Three?\" right now.\n",
    "            \n",
    "            # Use a regular expression to see if the line has the speaker marked with \">>\".\n",
    "            # The regex should ONLY match if the speaker name is present. If it is, it should\n",
    "            # should return two matching groups, one for the speaker and one for the text.\n",
    "            # e.g. your regex should not match \"I am.\" but it should match \">> SCOTT: Three?\".\n",
    "            # In the later case, the first regex group should match \"SCOTT\" and the second\n",
    "            # regex group should match \"Three?\"\n",
    "            \n",
    "            speaker_re = r'>> (.*): (.+)'\n",
    "            speaker_match = re.match(speaker_re, subline)\n",
    "            orig_subline = subline\n",
    "            if speaker_match:\n",
    "                speaker_string, subline = speaker_match.groups()\n",
    "                if not is_valid_speaker(speaker_string):\n",
    "                    # The speaker is not a valid all-uppercase string, so something is broken.\n",
    "                    captioning_broken = True\n",
    "                else:\n",
    "                    # We have a well-formed line. We can recover and exit the error state.\n",
    "                    captioning_broken = False  \n",
    "                speaker = speaker_string\n",
    "            elif subline.startswith(\">>\"):\n",
    "                # The line starts with \">>\" but doesn't match the speaker regular expression.\n",
    "                captioning_broken = True\n",
    "            if not is_valid_transcript_char(subline[0]):\n",
    "                # The line starts with an invalid character\n",
    "                captioning_broken = True\n",
    "            if speaker is None:\n",
    "                # No speaker has been marked yet, but the lines are plain, as if\n",
    "                # continuing from a known speaker. We cannot tell who is speaking.\n",
    "                captioning_broken = True\n",
    "\n",
    "            if not captioning_broken:\n",
    "                transcript.append(dict(timestamp=timestamp,\n",
    "                                       speaker=speaker,\n",
    "                                       text=subline))\n",
    "    \n",
    "    return title, transcript"
   ]
  },
  {
   "cell_type": "markdown",
   "metadata": {
    "deletable": false,
    "editable": false,
    "nbgrader": {
     "cell_type": "markdown",
     "checksum": "aec833a267e3a18acbfe07c81b8faac8",
     "grade": false,
     "grade_id": "cell-e86247181ae4aad1",
     "locked": true,
     "schema_version": 3,
     "solution": false
    }
   },
   "source": [
    "## Preparing the data for processing.\n",
    "\n",
    "Go through all the provided files and build two dictionaries:\n",
    "\n",
    "* `titles[transcript_id] = ` *title of the episode in the transcript*\n",
    "* `transcripts[transcript_id] = ` *the parsed transcript*\n",
    "\n",
    "as returned by `parse_kardashians_transcript`. A convenient transcript ID is defined by the `_nice_key` function below."
   ]
  },
  {
   "cell_type": "code",
   "execution_count": 8,
   "metadata": {
    "deletable": false,
    "editable": false,
    "nbgrader": {
     "cell_type": "code",
     "checksum": "3a8ff623a9a66c9fc99811b2b78d4dd1",
     "grade": false,
     "grade_id": "cell-db37088ea6cd5b68",
     "locked": true,
     "schema_version": 3,
     "solution": false
    }
   },
   "outputs": [
    {
     "data": {
      "text/plain": [
       "'kourtney_and_kim/568960'"
      ]
     },
     "execution_count": 8,
     "metadata": {},
     "output_type": "execute_result"
    }
   ],
   "source": [
    "def _nice_key(file_path):\n",
    "    \"\"\"Convenience function to get a unique transcript ID that is shorter than the filename\"\"\"\n",
    "    return file_path.split(\"_\", 2)[2].rsplit(\".\")[0]\n",
    "\n",
    "_nice_key('kardashians_data/livedash_kourtney_and_kim/568960.html')"
   ]
  },
  {
   "cell_type": "code",
   "execution_count": null,
   "metadata": {
    "deletable": false,
    "editable": false,
    "nbgrader": {
     "cell_type": "code",
     "checksum": "6def533f291541f885e99b13fb62616c",
     "grade": false,
     "grade_id": "cell-473e4929b7b7aa6a",
     "locked": true,
     "schema_version": 3,
     "solution": false
    }
   },
   "outputs": [],
   "source": [
    "#Note: this cell may take a few minutes to run\n",
    "import os\n",
    "titles = {}\n",
    "transcripts = {}\n",
    "\n",
    "for subdir in os.listdir(\"kardashians_data\"):\n",
    "    if os.path.isdir(\"kardashians_data/\" + subdir):\n",
    "        for filename in os.listdir(\"kardashians_data/\" + subdir):\n",
    "            path = \"kardashians_data/\" + subdir + \"/\" + filename\n",
    "            if os.path.splitext(path)[1].lower() == \".html\":\n",
    "                transcript_id = _nice_key(path)\n",
    "                with open(path) as f:\n",
    "                    title, transcript = parse_kardashians_transcript(f)\n",
    "                    titles[transcript_id] = title\n",
    "                    transcripts[transcript_id] = transcript "
   ]
  },
  {
   "cell_type": "markdown",
   "metadata": {
    "deletable": false,
    "editable": false,
    "nbgrader": {
     "cell_type": "markdown",
     "checksum": "f553e413a950bcf9b7ec938183ca29d4",
     "grade": false,
     "grade_id": "cell-a487b2c443169ea7",
     "locked": true,
     "schema_version": 3,
     "solution": false
    }
   },
   "source": [
    "We can now count the number of messages that are stored in the transcripts:"
   ]
  },
  {
   "cell_type": "code",
   "execution_count": null,
   "metadata": {
    "deletable": false,
    "editable": false,
    "nbgrader": {
     "cell_type": "code",
     "checksum": "0320a9a1c4bd4a19785aa16dec3b0995",
     "grade": false,
     "grade_id": "cell-b609d74529346776",
     "locked": true,
     "schema_version": 3,
     "solution": false
    }
   },
   "outputs": [],
   "source": [
    "sum(map(lambda t: len(t), transcripts.values()))"
   ]
  },
  {
   "cell_type": "code",
   "execution_count": null,
   "metadata": {
    "deletable": false,
    "editable": false,
    "nbgrader": {
     "cell_type": "code",
     "checksum": "06eacc14964e8c8a551f53e10f3f67f5",
     "grade": false,
     "grade_id": "cell-4dac34dad420451e",
     "locked": true,
     "schema_version": 3,
     "solution": false,
     "task": false
    }
   },
   "outputs": [],
   "source": [
    "len(set({'kardashians/153890': 'Keeping Up With the Kardashians - Shape Up or Ship Out',\n",
    " 'kardashians/153950': 'Keeping Up With the Kardashians - Shape Up or Ship Out'}.values()))"
   ]
  },
  {
   "cell_type": "markdown",
   "metadata": {
    "deletable": false,
    "editable": false,
    "nbgrader": {
     "cell_type": "markdown",
     "checksum": "b53328c6441e4a1d36807f8512ce8d8a",
     "grade": false,
     "grade_id": "cell-980d85947361658a",
     "locked": true,
     "schema_version": 3,
     "solution": false
    }
   },
   "source": [
    "## Question 1 (Code Completion): Analysis of Episode Titles\n",
    "Multiple HTML files could contain the transcripts from the same episode, which is indicated by the title, resulting in duplicates in our data.\n",
    "\n",
    "*In the cell below complete the function to determine how many distinct episodes are present in the files?*"
   ]
  },
  {
   "cell_type": "code",
   "execution_count": null,
   "metadata": {
    "deletable": false,
    "nbgrader": {
     "cell_type": "code",
     "checksum": "23f781d46dad806662f20d56a3ad44d9",
     "grade": false,
     "grade_id": "num_episodes",
     "locked": false,
     "schema_version": 3,
     "solution": true
    }
   },
   "outputs": [],
   "source": [
    "def num_episodes(input_titles):\n",
    "    \"\"\" Method takes in the titles and returns the number of distinct episodes\n",
    "    \n",
    "        Note: What kind of data structure should be used here? \n",
    "        Note: We generally recommend using the local variables (in this case, 'input_titles') \n",
    "        when filling out these functions.\n",
    "    \"\"\"\n",
    "    d={}\n",
    "    for i in input_titles:\n",
    "        d[input_titles[i]]=0\n",
    "    return len(d.keys())"
   ]
  },
  {
   "cell_type": "code",
   "execution_count": null,
   "metadata": {
    "deletable": false,
    "editable": false,
    "nbgrader": {
     "cell_type": "code",
     "checksum": "1fce17956211fd9a8a925a1455067c11",
     "grade": true,
     "grade_id": "num_episodes_test",
     "locked": true,
     "points": 5,
     "schema_version": 3,
     "solution": false
    }
   },
   "outputs": [],
   "source": [
    "\"\"\"Check that num_episodes returns the correct output\"\"\"    \n",
    "assert num_episodes(titles) == 56"
   ]
  },
  {
   "cell_type": "markdown",
   "metadata": {
    "deletable": false,
    "editable": false,
    "nbgrader": {
     "cell_type": "markdown",
     "checksum": "a5496012179b89bcbe57be93003a8724",
     "grade": false,
     "grade_id": "cell-708b7f0514762ae8",
     "locked": true,
     "schema_version": 3,
     "solution": false
    }
   },
   "source": [
    "In later assignments we will be analyzing the language used by central characters in the show. It turns out that one of the characters is referred to by two different names, Rob and Robert. The function below can be used to replace a specified name with a new one."
   ]
  },
  {
   "cell_type": "code",
   "execution_count": null,
   "metadata": {
    "deletable": false,
    "editable": false,
    "nbgrader": {
     "cell_type": "code",
     "checksum": "678caa597a88f24d1f016fc83576d5d1",
     "grade": false,
     "grade_id": "cell-8c7274c81edf6e6f",
     "locked": true,
     "schema_version": 3,
     "solution": false
    }
   },
   "outputs": [],
   "source": [
    "def replace_name(transcripts, original_name, replacement_name):\n",
    "    for k in transcripts.keys():\n",
    "        for i in range(0,len(transcripts[k])):\n",
    "            if transcripts[k][i]['speaker'] == original_name:\n",
    "                transcripts[k][i]['speaker'] = replacement_name\n",
    "    return transcripts\n",
    "transcripts = replace_name(transcripts, \"ROB\", \"ROBERT\")"
   ]
  },
  {
   "cell_type": "markdown",
   "metadata": {
    "deletable": false,
    "editable": false,
    "nbgrader": {
     "cell_type": "markdown",
     "checksum": "c40c3828a4deb74a70f5ad8c1a089c0c",
     "grade": false,
     "grade_id": "cell-1ef3a1de2d3e8a9b",
     "locked": true,
     "schema_version": 3,
     "solution": false
    }
   },
   "source": [
    "## Question 2 (Code Completion): Speaker utterances\n",
    "\n",
    "In the cell below complete the function to determine: *How many times does the speaker ROBERT appear in the processed transcripts?*"
   ]
  },
  {
   "cell_type": "code",
   "execution_count": null,
   "metadata": {
    "deletable": false,
    "nbgrader": {
     "cell_type": "code",
     "checksum": "047a0504ba167f96ddcb3bf6c105001c",
     "grade": false,
     "grade_id": "num_robert_utterances",
     "locked": false,
     "schema_version": 3,
     "solution": true
    }
   },
   "outputs": [],
   "source": [
    "def num_robert_utterances(input_transcripts):\n",
    "    \"\"\" Method takes in the transcripts and returns the number of utterances by 'ROBERT'\n",
    "    \"\"\"\n",
    "    num=0\n",
    "    for k in input_transcripts.keys():\n",
    "        for i in range(0,len(input_transcripts[k])):\n",
    "            if input_transcripts[k][i]['speaker'] == 'ROBERT':\n",
    "                num=num+1\n",
    "\n",
    "    return num\n",
    "    "
   ]
  },
  {
   "cell_type": "code",
   "execution_count": null,
   "metadata": {
    "deletable": false,
    "editable": false,
    "nbgrader": {
     "cell_type": "code",
     "checksum": "c4adc885cf30544ce85647fad453250f",
     "grade": true,
     "grade_id": "num_robert_utterances_test",
     "locked": true,
     "points": 5,
     "schema_version": 3,
     "solution": false
    }
   },
   "outputs": [],
   "source": [
    "\"\"\"Check that num_robert_utterances returns an output in the following range.\"\"\"\n",
    "assert num_robert_utterances(transcripts) >= 18275 \n",
    "assert num_robert_utterances(transcripts) <= 18591"
   ]
  },
  {
   "cell_type": "markdown",
   "metadata": {
    "deletable": false,
    "editable": false,
    "nbgrader": {
     "cell_type": "markdown",
     "checksum": "3b95eb8cf87ff5c28a67cf0980d46d46",
     "grade": false,
     "grade_id": "cell-a2813db3a8abaa30",
     "locked": true,
     "schema_version": 3,
     "solution": false
    }
   },
   "source": [
    "## End of Assignment 0"
   ]
  },
  {
   "cell_type": "code",
   "execution_count": null,
   "metadata": {},
   "outputs": [],
   "source": []
  }
 ],
 "metadata": {
  "kernelspec": {
   "display_name": "Python 3",
   "language": "python",
   "name": "python3"
  },
  "language_info": {
   "codemirror_mode": {
    "name": "ipython",
    "version": 3
   },
   "file_extension": ".py",
   "mimetype": "text/x-python",
   "name": "python",
   "nbconvert_exporter": "python",
   "pygments_lexer": "ipython3",
   "version": "3.7.6"
  }
 },
 "nbformat": 4,
 "nbformat_minor": 2
}
